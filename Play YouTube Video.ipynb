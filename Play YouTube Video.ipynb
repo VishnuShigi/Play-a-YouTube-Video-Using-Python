{
 "cells": [
  {
   "cell_type": "code",
   "execution_count": 1,
   "id": "249f9f37",
   "metadata": {},
   "outputs": [],
   "source": [
    "import cv2\n",
    "import pafy"
   ]
  },
  {
   "cell_type": "code",
   "execution_count": 11,
   "id": "f54f4845",
   "metadata": {},
   "outputs": [
    {
     "name": "stdout",
     "output_type": "stream",
     "text": [
      "Enter the link of the YouTube video\n",
      "https://www.youtube.com/watch?v=IOBZdLq8lCs\n",
      "Press \"q\" to exit\n"
     ]
    }
   ],
   "source": [
    "#Getting the link\n",
    "url=input(\"Enter the link of the YouTube video\\r\\n\")\n",
    "print('Press \"q\" to exit')\n",
    "#Getting the video\n",
    "video=pafy.new(url)\n",
    "\n",
    "#Getting the best quality\n",
    "best=video.getbest(preftype=\"mp4\")\n",
    "\n",
    "#Starting the video capture using CV2\n",
    "cap=cv2.VideoCapture(best.url)\n",
    "\n",
    "#Playing/Streaming the video using CV2\n",
    "while True:\n",
    "    #Capture frame by frame using CV2\n",
    "    ret,frame = cap.read()\n",
    "    cv2.imshow('YouTube Video',frame)\n",
    "    \n",
    "    #If the user inputs 'q' key then exit the window\n",
    "    if cv2.waitKey(20) & 0xFF == ord('q'):\n",
    "        break \n",
    "\n",
    "cap.release()\n",
    "#Closing the CV2\n",
    "cv2.destroyAllWindows()"
   ]
  },
  {
   "cell_type": "code",
   "execution_count": null,
   "id": "550875ff",
   "metadata": {},
   "outputs": [],
   "source": []
  }
 ],
 "metadata": {
  "kernelspec": {
   "display_name": "Python 3",
   "language": "python",
   "name": "python3"
  },
  "language_info": {
   "codemirror_mode": {
    "name": "ipython",
    "version": 3
   },
   "file_extension": ".py",
   "mimetype": "text/x-python",
   "name": "python",
   "nbconvert_exporter": "python",
   "pygments_lexer": "ipython3",
   "version": "3.9.4"
  }
 },
 "nbformat": 4,
 "nbformat_minor": 5
}
